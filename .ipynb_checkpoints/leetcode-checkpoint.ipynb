{
 "cells": [
  {
   "cell_type": "code",
   "execution_count": 61,
   "id": "b1a09591-6590-4162-8717-d08130c679d2",
   "metadata": {},
   "outputs": [
    {
     "data": {
      "text/plain": [
       "(0, 1)"
      ]
     },
     "execution_count": 61,
     "metadata": {},
     "output_type": "execute_result"
    }
   ],
   "source": [
    "\"\"\"Example 1:\n",
    "\n",
    "Input: nums = [2,7,11,15], target = 9\n",
    "Output: [0,1]\n",
    "Explanation: Because nums[0] + nums[1] == 9, we return [0, 1].\n",
    "Example 2:\n",
    "\n",
    "Input: nums = [3,2,4], target = 6\n",
    "Output: [1,2]\n",
    "Example 3:\n",
    "\n",
    "Input: nums = [3,3], target = 6\n",
    "Output: [0,1]\n",
    "\"\"\"\n",
    "\n",
    "\n",
    "def twosum(nums, target):\n",
    "    indexs = []\n",
    "    for i in range(len(nums)):\n",
    "        for j in range(i+1,len(nums)):\n",
    "            if nums[i]+nums[j] == target:\n",
    "                return i, j\n",
    "\n",
    "\n",
    "nums = [2, 7, 11, 15]\n",
    "target = 9\n",
    "twosum(nums, target)"
   ]
  },
  {
   "cell_type": "code",
   "execution_count": 1,
   "id": "0f94fced-2235-4800-8142-90d04091b92e",
   "metadata": {},
   "outputs": [],
   "source": [
    "    def twoSum(nums, target):\n",
    "        \"\"\"\n",
    "        :type nums: List[int]\n",
    "        :type target: int\n",
    "        :rtype: List[int]\n",
    "        \"\"\"\n",
    "        hashmap = {}\n",
    "        for i, num in enumerate(nums):\n",
    "            diff = target - num\n",
    "            print(hashmap.get(diff, i))\n",
    "            if i != hashmap.get(num, i):\n",
    "                return [i, hashmap[num]]\n",
    "            else:\n",
    "                hashmap[diff] = i\n",
    "                print(hashmap[diff])\n"
   ]
  },
  {
   "cell_type": "code",
   "execution_count": 14,
   "id": "0bcde242-80f9-47b1-afb7-dfad0d65e915",
   "metadata": {},
   "outputs": [
    {
     "ename": "TypeError",
     "evalue": "twoSum() missing 1 required positional argument: 'target'",
     "output_type": "error",
     "traceback": [
      "\u001b[0;31m---------------------------------------------------------------------------\u001b[0m",
      "\u001b[0;31mTypeError\u001b[0m                                 Traceback (most recent call last)",
      "Cell \u001b[0;32mIn[14], line 3\u001b[0m\n\u001b[1;32m      1\u001b[0m nums \u001b[38;5;241m=\u001b[39m [\u001b[38;5;241m2\u001b[39m, \u001b[38;5;241m7\u001b[39m, \u001b[38;5;241m11\u001b[39m, \u001b[38;5;241m15\u001b[39m]\n\u001b[1;32m      2\u001b[0m target \u001b[38;5;241m=\u001b[39m \u001b[38;5;241m9\u001b[39m\n\u001b[0;32m----> 3\u001b[0m twoSum(nums, target)\n",
      "\u001b[0;31mTypeError\u001b[0m: twoSum() missing 1 required positional argument: 'target'"
     ]
    }
   ],
   "source": [
    "nums = [2, 7, 11, 15]\n",
    "target = 9\n",
    "twoSum(nums, target)"
   ]
  },
  {
   "cell_type": "code",
   "execution_count": null,
   "id": "ce5da59f-052a-4de5-9537-bfa77dae633b",
   "metadata": {},
   "outputs": [],
   "source": []
  },
  {
   "cell_type": "code",
   "execution_count": null,
   "id": "5a14031b-f167-4cba-b703-18d748003d95",
   "metadata": {},
   "outputs": [],
   "source": []
  }
 ],
 "metadata": {
  "kernelspec": {
   "display_name": "Python 3 (ipykernel)",
   "language": "python",
   "name": "python3"
  },
  "language_info": {
   "codemirror_mode": {
    "name": "ipython",
    "version": 3
   },
   "file_extension": ".py",
   "mimetype": "text/x-python",
   "name": "python",
   "nbconvert_exporter": "python",
   "pygments_lexer": "ipython3",
   "version": "3.12.4"
  }
 },
 "nbformat": 4,
 "nbformat_minor": 5
}
