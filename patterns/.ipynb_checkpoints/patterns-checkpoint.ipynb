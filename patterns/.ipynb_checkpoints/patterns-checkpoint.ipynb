{
 "cells": [
  {
   "cell_type": "markdown",
   "id": "8cff6ca5-1c7f-4bfc-b727-cc2be61ab548",
   "metadata": {},
   "source": [
    "## Pattrens"
   ]
  },
  {
   "cell_type": "code",
   "execution_count": 6,
   "id": "f00b6708-9b0f-4e24-94de-6377e7241ed3",
   "metadata": {},
   "outputs": [],
   "source": [
    "# 1- Outer loop counts no. of lines\n",
    "# 2- Inner loop counts no. of columns and connect them somehow to the rows\n",
    "# 3- Whatever you are printing print them inside the inner for loop\n",
    "# 4- Observe symmetry in case of some pattrens [Optional]"
   ]
  },
  {
   "cell_type": "code",
   "execution_count": 11,
   "id": "c35dd5a4-ebcf-4add-9902-f2f54fb6cb36",
   "metadata": {},
   "outputs": [],
   "source": [
    "def print_stars(rows, columns):\n",
    "    for row in range(rows):\n",
    "        for column in range(columns):\n",
    "            print(\"*\")\n",
    "        ````print(\"\\n\")"
   ]
  },
  {
   "cell_type": "code",
   "execution_count": 13,
   "id": "f070d1c0-df96-4a2b-814c-962f9c2eb6d2",
   "metadata": {},
   "outputs": [
    {
     "name": "stdout",
     "output_type": "stream",
     "text": [
      "*\n",
      "*\n",
      "*\n",
      "*\n",
      "\n",
      "\n",
      "*\n",
      "*\n",
      "*\n",
      "*\n",
      "\n",
      "\n",
      "*\n",
      "*\n",
      "*\n",
      "*\n",
      "\n",
      "\n",
      "*\n",
      "*\n",
      "*\n",
      "*\n",
      "\n",
      "\n"
     ]
    }
   ],
   "source": [
    "print_stars(4,4)"
   ]
  },
  {
   "cell_type": "code",
   "execution_count": null,
   "id": "0993a51b-b671-4847-8351-39655c1753c6",
   "metadata": {},
   "outputs": [],
   "source": []
  }
 ],
 "metadata": {
  "kernelspec": {
   "display_name": "Python 3 (ipykernel)",
   "language": "python",
   "name": "python3"
  },
  "language_info": {
   "codemirror_mode": {
    "name": "ipython",
    "version": 3
   },
   "file_extension": ".py",
   "mimetype": "text/x-python",
   "name": "python",
   "nbconvert_exporter": "python",
   "pygments_lexer": "ipython3",
   "version": "3.12.4"
  }
 },
 "nbformat": 4,
 "nbformat_minor": 5
}
