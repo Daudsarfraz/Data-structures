{
 "cells": [
  {
   "cell_type": "markdown",
   "id": "8cff6ca5-1c7f-4bfc-b727-cc2be61ab548",
   "metadata": {},
   "source": [
    "## Pattrens"
   ]
  },
  {
   "cell_type": "code",
   "execution_count": 6,
   "id": "f00b6708-9b0f-4e24-94de-6377e7241ed3",
   "metadata": {},
   "outputs": [],
   "source": [
    "# 1- Outer loop counts no. of lines\n",
    "# 2- Inner loop counts no. of columns and connect them somehow to the rows\n",
    "# 3- Whatever you are printing print them inside the inner for loop\n",
    "# 4- Observe symmetry in case of some pattrens [Optional]"
   ]
  },
  {
   "cell_type": "code",
   "execution_count": 176,
   "id": "c35dd5a4-ebcf-4add-9902-f2f54fb6cb36",
   "metadata": {},
   "outputs": [],
   "source": [
    "def print_stars(rows=0, columns=0):\n",
    "    for row in range(rows):\n",
    "        for column in range(columns):\n",
    "            print(\"X\", end = \"\") # Just 4 spaces \n",
    "        print()"
   ]
  },
  {
   "cell_type": "code",
   "execution_count": 178,
   "id": "f070d1c0-df96-4a2b-814c-962f9c2eb6d2",
   "metadata": {},
   "outputs": [
    {
     "name": "stdout",
     "output_type": "stream",
     "text": [
      "XX\n",
      "XX\n"
     ]
    }
   ],
   "source": [
    "    print_stars(2, 2)"
   ]
  },
  {
   "cell_type": "code",
   "execution_count": 167,
   "id": "0993a51b-b671-4847-8351-39655c1753c6",
   "metadata": {},
   "outputs": [
    {
     "name": "stdout",
     "output_type": "stream",
     "text": [
      "X\n",
      "XX\n",
      "XXX\n",
      "XXXX\n"
     ]
    }
   ],
   "source": [
    "def print_stars2(rows=0, columns=0):\n",
    "    for row in range(1, rows+1):  # Start from 1 to match row count with output\n",
    "        for column in range(1, row+1):  # Print increasing X's\n",
    "            print(\"X\", end=\"\")  # Print without newline\n",
    "        print()  # Move to the next line after each row\n",
    "\n",
    "# Example usage\n",
    "print_stars2(4)\n"
   ]
  },
  {
   "cell_type": "code",
   "execution_count": 1,
   "id": "0ba11fc0-85f1-4c8b-9ad6-420347b7ead2",
   "metadata": {},
   "outputs": [],
   "source": [
    "# 1\n",
    "# 1 2\n",
    "# 1 2 3\n",
    "# 1 2 3 4"
   ]
  },
  {
   "cell_type": "code",
   "execution_count": 13,
   "id": "7bfc8dc3-bf7d-4851-b85c-97396f3bbe1d",
   "metadata": {},
   "outputs": [],
   "source": [
    "def pattern3(rows=0, columns=0):\n",
    "    for row in range(1, rows+1):\n",
    "        for column in range(1, row+1):\n",
    "            print(column, end=\" \")\n",
    "        print()"
   ]
  },
  {
   "cell_type": "code",
   "execution_count": 15,
   "id": "b854fd86-261c-41d2-beed-d3ed5181c4bb",
   "metadata": {},
   "outputs": [
    {
     "name": "stdout",
     "output_type": "stream",
     "text": [
      "1 \n",
      "1 2 \n",
      "1 2 3 \n"
     ]
    }
   ],
   "source": [
    "pattern3(3)"
   ]
  },
  {
   "cell_type": "code",
   "execution_count": 23,
   "id": "cb17a779-4f4a-4a06-b9c1-03a0e4d843e0",
   "metadata": {},
   "outputs": [],
   "source": [
    "# 1\n",
    "# 2 2\n",
    "# 3 3 3\n",
    "# 4 4 4 4"
   ]
  },
  {
   "cell_type": "code",
   "execution_count": 25,
   "id": "734d692e-f014-4b89-af48-1cb19987df13",
   "metadata": {},
   "outputs": [
    {
     "name": "stdout",
     "output_type": "stream",
     "text": [
      "1 \n",
      "2 2 \n",
      "3 3 3 \n",
      "4 4 4 4 \n",
      "5 5 5 5 5 \n"
     ]
    }
   ],
   "source": [
    "def pattern4(rows=0, columns=0):\n",
    "    for row in range(1, rows+1):\n",
    "        for column in range(1, row+1):\n",
    "            print(row, end=\" \")\n",
    "        print()\n",
    "\n",
    "pattern4(5, 0)"
   ]
  },
  {
   "cell_type": "code",
   "execution_count": 31,
   "id": "63cab194-400a-4f19-b8ee-f2a2cfc4e24a",
   "metadata": {},
   "outputs": [],
   "source": [
    "# * * * * *\n",
    "# * * * *\n",
    "# * * *\n",
    "# * *\n",
    "# * "
   ]
  },
  {
   "cell_type": "code",
   "execution_count": 69,
   "id": "d6d1e883-dd88-403a-8594-44e8048aa46f",
   "metadata": {},
   "outputs": [],
   "source": [
    "def pattern5(rows =0):\n",
    "    for row in range(rows, 0, -1):\n",
    "        print(row* '*')\n",
    "    print()"
   ]
  },
  {
   "cell_type": "code",
   "execution_count": 71,
   "id": "e01ae864-21f1-46e0-9429-7a23853b84ac",
   "metadata": {},
   "outputs": [
    {
     "name": "stdout",
     "output_type": "stream",
     "text": [
      "*****\n",
      "****\n",
      "***\n",
      "**\n",
      "*\n",
      "\n"
     ]
    }
   ],
   "source": [
    "pattern5(5)"
   ]
  },
  {
   "cell_type": "code",
   "execution_count": 115,
   "id": "0720f06a-2d22-40aa-a2f0-78fcc59ac25e",
   "metadata": {},
   "outputs": [],
   "source": [
    "def pattern5(rows =0):\n",
    "    for row in range(1, rows+1):\n",
    "        for column in range(rows-row+1):\n",
    "            print('*', end = '')\n",
    "        print()"
   ]
  },
  {
   "cell_type": "code",
   "execution_count": 117,
   "id": "c938a734-5ba3-476a-8a4b-52ea178b5878",
   "metadata": {},
   "outputs": [
    {
     "name": "stdout",
     "output_type": "stream",
     "text": [
      "*****\n",
      "****\n",
      "***\n",
      "**\n",
      "*\n"
     ]
    }
   ],
   "source": [
    "pattern5(5)"
   ]
  },
  {
   "cell_type": "code",
   "execution_count": 1,
   "id": "1ad5aa6a-5145-4688-a53a-61032ae47aad",
   "metadata": {},
   "outputs": [],
   "source": [
    "# 1 2 3 4 \n",
    "# 1 2 3\n",
    "# 1 2\n",
    "# 1"
   ]
  },
  {
   "cell_type": "code",
   "execution_count": 91,
   "id": "d99cf1d4-cb54-410d-8c35-2fb8c862fdd0",
   "metadata": {},
   "outputs": [],
   "source": [
    "def pattern6(rows):\n",
    "    for row in range(1, rows+1):\n",
    "        for column in range(rows-row+1):\n",
    "            print(column+1, end = \"\")\n",
    "        print()"
   ]
  },
  {
   "cell_type": "code",
   "execution_count": 93,
   "id": "a9a35bf5-094d-49e3-8dfe-41c82cc7817a",
   "metadata": {},
   "outputs": [
    {
     "name": "stdout",
     "output_type": "stream",
     "text": [
      "1234567\n",
      "123456\n",
      "12345\n",
      "1234\n",
      "123\n",
      "12\n",
      "1\n"
     ]
    }
   ],
   "source": [
    "pattern6(7)"
   ]
  },
  {
   "cell_type": "code",
   "execution_count": 95,
   "id": "075e14c6-34cf-453f-aa71-6d6885d986f5",
   "metadata": {},
   "outputs": [],
   "source": [
    "#"
   ]
  },
  {
   "cell_type": "code",
   "execution_count": 165,
   "id": "224113b8-e429-485d-a535-efb278f3232d",
   "metadata": {},
   "outputs": [],
   "source": [
    "def pattern7(rows):\n",
    "    for row in range(0, rows):\n",
    "        print(((rows-row-1)* \" \") + ((2 *row+1) * \"*\")+((rows-row-1)*\" \"))"
   ]
  },
  {
   "cell_type": "code",
   "execution_count": 167,
   "id": "f2195c83-86c3-4d69-8f2d-dee7d584cc13",
   "metadata": {},
   "outputs": [
    {
     "name": "stdout",
     "output_type": "stream",
     "text": [
      "    *    \n",
      "   ***   \n",
      "  *****  \n",
      " ******* \n",
      "*********\n"
     ]
    }
   ],
   "source": [
    "pattern7(5)"
   ]
  },
  {
   "cell_type": "code",
   "execution_count": 172,
   "id": "c1010ac9-b103-4085-851e-5966e768b6ed",
   "metadata": {},
   "outputs": [
    {
     "name": "stdout",
     "output_type": "stream",
     "text": [
      "    *    \n",
      "   ***   \n",
      "  *****  \n",
      " ******* \n",
      "*********\n"
     ]
    }
   ],
   "source": [
    "def pattern7(rows=5):\n",
    "    for row in range(0, rows):  # outer loop for each row\n",
    "        # Inner loop for spaces\n",
    "        for i in range(rows - row - 1):\n",
    "            print(\" \", end=\"\")  # print spaces (no need to multiply by i)\n",
    "        # Inner loop for stars\n",
    "        for j in range(2 * row + 1):\n",
    "            print(\"*\", end=\"\")  # print stars (no need to multiply by j)\n",
    "        for i in range(rows - row - 1):\n",
    "            print(\" \", end=\"\")  # print spaces (no need to multiply by i)\n",
    "        # Move to the next line after each row\n",
    "        print()\n",
    "\n",
    "# Call the function\n",
    "pattern7(5)\n",
    "\n",
    "        #print(((rows-row-1)* \" \") + ((2 *row+1) * \"*\")+((rows-row-1)*\" \"))"
   ]
  },
  {
   "cell_type": "code",
   "execution_count": 197,
   "id": "d2f4d3ae-69a9-47f4-aa9e-537f93d3086c",
   "metadata": {},
   "outputs": [
    {
     "name": "stdout",
     "output_type": "stream",
     "text": [
      "    *    \n",
      "   ***   \n",
      "  *****  \n",
      " ******* \n",
      "*********\n"
     ]
    }
   ],
   "source": [
    "def pattern7(rows = 5):\n",
    "    for row in range(0, rows): # outer \n",
    "        for i in range(rows-row-1):\n",
    "            print(\" \", end = \"\")\n",
    "        for j in range(2*row+1):\n",
    "            print(\"*\", end = '')\n",
    "        for k in range(rows-row-1):\n",
    "            print(\" \", end = \"\")\n",
    "        print()\n",
    "pattern7()"
   ]
  },
  {
   "cell_type": "code",
   "execution_count": 255,
   "id": "71865624-d740-4211-9a5b-6aa13b8da16b",
   "metadata": {},
   "outputs": [
    {
     "name": "stdout",
     "output_type": "stream",
     "text": [
      "*********    \n",
      " *******   \n",
      "  *****  \n",
      "   *** \n",
      "    *\n"
     ]
    }
   ],
   "source": [
    "def pattern7(rows = 5):\n",
    "    for row in range(rows): # outer \n",
    "        for i in range(row):\n",
    "            print(\" \", end = \"\")\n",
    "        for j in range(2 * (rows - row) - 1):\n",
    "            print(\"*\", end = '')\n",
    "        for k in range(rows-row-1):\n",
    "            print(\" \", end = \"\")\n",
    "        print()\n",
    "pattern7()"
   ]
  },
  {
   "cell_type": "code",
   "execution_count": null,
   "id": "be7d98bf-4770-4c7a-b99b-7da14617f2fe",
   "metadata": {},
   "outputs": [],
   "source": []
  }
 ],
 "metadata": {
  "kernelspec": {
   "display_name": "Python 3 (ipykernel)",
   "language": "python",
   "name": "python3"
  },
  "language_info": {
   "codemirror_mode": {
    "name": "ipython",
    "version": 3
   },
   "file_extension": ".py",
   "mimetype": "text/x-python",
   "name": "python",
   "nbconvert_exporter": "python",
   "pygments_lexer": "ipython3",
   "version": "3.12.4"
  }
 },
 "nbformat": 4,
 "nbformat_minor": 5
}
